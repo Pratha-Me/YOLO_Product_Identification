{
 "cells": [
  {
   "cell_type": "code",
   "execution_count": 1,
   "metadata": {},
   "outputs": [],
   "source": [
    "import sys\n",
    "sys.path.append(\"..\")"
   ]
  },
  {
   "cell_type": "code",
   "execution_count": 2,
   "metadata": {},
   "outputs": [],
   "source": [
    "from utils import DataGenerator, read_annotation_lines\n",
    "from models import Yolov4\n",
    "from config import yolo_config"
   ]
  },
  {
   "cell_type": "code",
   "execution_count": null,
   "metadata": {},
   "outputs": [],
   "source": [
    "import os\n",
    "from tensorflow import keras \n",
    "\n",
    "dir4saving = '../checkpoints'\n",
    "os.makedirs(dir4saving, exist_ok = False)\n",
    "\n",
    "logdir = '../logs'\n",
    "os.makedirs(logdir, exist_ok = False)\n",
    "\n",
    "name4saving = 'epoch_{epoch:02d}-val_loss-{val_loss:.4f}.hdf5'\n",
    "\n",
    "filepath = os.path.join(dir4saving, name4saving)\n",
    "\n",
    "rLrCallBack = keras.callbacks.ReduceLROnPlateau(monitor = 'val_loss',\n",
    "                                             factor = 0.1,\n",
    "                                             patience = 5,\n",
    "                                             verbose = 1)\n",
    "\n",
    "tbCallBack = keras.callbacks.TensorBoard(log_dir = logdir,\n",
    "                                         histogram_freq = 0,\n",
    "                                         write_graph = False,\n",
    "                                         write_images = False)\n",
    "\n",
    "mcCallBack_loss = keras.callbacks.ModelCheckpoint(filepath,\n",
    "                                            monitor = 'val_loss',\n",
    "                                            verbose = 1,\n",
    "                                            save_best_only = True,\n",
    "                                            save_weights_only = False,\n",
    "                                            mode = 'auto',\n",
    "                                            period = 1)\n",
    "\n",
    "esCallBack = keras.callbacks.EarlyStopping(monitor = 'val_loss',\n",
    "                                          mode = 'min',\n",
    "                                          verbose = 1,\n",
    "                                          patience = 10)\n"
   ]
  },
  {
   "cell_type": "code",
   "execution_count": null,
   "metadata": {},
   "outputs": [],
   "source": [
    "train_lines, val_lines = read_annotation_lines('../dataset/txt/anno-test.txt', test_size=0.1)\n",
    "\n",
    "FOLDER_PATH = '../dataset/img'\n",
    "class_name_path = '../class_names/coco_classes.txt'\n",
    "\n",
    "data_gen_train = DataGenerator(train_lines, class_name_path, FOLDER_PATH)\n",
    "data_gen_val = DataGenerator(val_lines, class_name_path, FOLDER_PATH)\n",
    "\n",
    "model = Yolov4(weight_path=None, \n",
    "               class_name_path=class_name_path)\n",
    "\n",
    "model.fit(data_gen_train, \n",
    "          initial_epoch=0,\n",
    "          epochs=10000, \n",
    "          val_data_gen=data_gen_val,\n",
    "          callbacks=[])\n",
    "\n",
    "model.save_model('../')"
   ]
  },
  {
   "cell_type": "code",
   "execution_count": null,
   "metadata": {},
   "outputs": [],
   "source": []
  },
  {
   "cell_type": "code",
   "execution_count": null,
   "metadata": {},
   "outputs": [],
   "source": []
  }
 ],
 "metadata": {
  "colab": {
   "authorship_tag": "ABX9TyOi+1wkzoRXzgNQN7U2NBPg",
   "default_view": {},
   "name": "Untitled",
   "provenance": [],
   "views": {}
  },
  "kernelspec": {
   "display_name": "Python 3.8.8 ('base')",
   "language": "python",
   "name": "python3"
  },
  "language_info": {
   "codemirror_mode": {
    "name": "ipython",
    "version": 3
   },
   "file_extension": ".py",
   "mimetype": "text/x-python",
   "name": "python",
   "nbconvert_exporter": "python",
   "pygments_lexer": "ipython3",
   "version": "3.8.8"
  },
  "vscode": {
   "interpreter": {
    "hash": "e2bdd490934a09705ff8383ec209f981ee6c3f52d9195f76ed6e6522e520a5e6"
   }
  }
 },
 "nbformat": 4,
 "nbformat_minor": 4
}
